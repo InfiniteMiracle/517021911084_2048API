{
 "cells": [
  {
   "cell_type": "code",
   "execution_count": 2,
   "metadata": {},
   "outputs": [
    {
     "name": "stderr",
     "output_type": "stream",
     "text": [
      "Using TensorFlow backend.\n"
     ]
    }
   ],
   "source": [
    "import keras\n",
    "from keras.models import Sequential\n",
    "from keras.models import Model\n",
    "from keras.layers import Dense, Dropout, Flatten, Conv2D, MaxPooling2D\n",
    "import numpy as np\n",
    "from keras.models import load_model\n",
    "from keras.layers.merge import concatenate\n",
    "from keras.layers import Input, merge"
   ]
  },
  {
   "cell_type": "code",
   "execution_count": null,
   "metadata": {},
   "outputs": [],
   "source": [
    "model = Sequential()\n",
    "model.add(Conv2D(128, kernel_size=(2, 2), activation=\"relu\",input_shape=(4,4,16),padding = 'valid'))\n",
    "model.add(Conv2D(128, kernel_size=(2, 2), activation=\"relu\",padding = 'valid'))\n",
    "model.add(Flatten())\n",
    "model.add(Dense(128,activation=\"relu\"))\n",
    "model.add(Dropout(0.25))\n",
    "model.add(Dense(4,activation=\"softmax\"))\n",
    "model.compile(optimizer='adam',loss='categorical_crossentropy', metrics=['accuracy'])\n",
    "#model.save('learn_32.h5')  "
   ]
  },
  {
   "cell_type": "code",
   "execution_count": null,
   "metadata": {},
   "outputs": [],
   "source": [
    "model1 = Sequential()\n",
    "model1.add(Conv2D(128, kernel_size=(3, 3), activation=\"relu\",input_shape=(4,4,16),padding = 'same'))\n",
    "model1.add(Conv2D(128, kernel_size=(2, 2), activation=\"relu\",padding = 'valid'))\n",
    "model1.add(Conv2D(128, kernel_size=(2, 2), activation=\"relu\",padding = 'valid'))\n",
    "model1.add(Flatten())\n",
    "model1.add(Dense(128,activation=\"relu\"))\n",
    "model1.add(Dropout(0.25))\n",
    "model1.add(Dense(4,activation=\"softmax\"))\n",
    "model1.compile(optimizer='adam',loss='categorical_crossentropy', metrics=['accuracy'])\n",
    "#model1.save('my_highest.h5') "
   ]
  },
  {
   "cell_type": "code",
   "execution_count": null,
   "metadata": {},
   "outputs": [],
   "source": [
    "model2 = Sequential()\n",
    "model2.add(Conv2D(128, kernel_size=(2, 2), activation=\"relu\",input_shape=(4,4,16),padding = 'valid'))\n",
    "model2.add(Conv2D(128, kernel_size=(2, 2), activation=\"relu\",input_shape=(4,4,16),padding = 'valid'))\n",
    "model2.add(Flatten())\n",
    "model2.add(Dense(256,activation=\"relu\"))\n",
    "model2.add(Dropout(0.5))\n",
    "model2.add(Dense(4,activation=\"softmax\"))\n",
    "model2.compile(optimizer='adam',loss='categorical_crossentropy', metrics=['accuracy'])\n",
    "#model2.save('my_low.h5')"
   ]
  },
  {
   "cell_type": "code",
   "execution_count": 3,
   "metadata": {},
   "outputs": [
    {
     "name": "stdout",
     "output_type": "stream",
     "text": [
      "WARNING:tensorflow:From /glob/intel-python/versions/2018/intelpython3/lib/python3.6/site-packages/keras/backend/tensorflow_backend.py:1264: calling reduce_prod (from tensorflow.python.ops.math_ops) with keep_dims is deprecated and will be removed in a future version.\n",
      "Instructions for updating:\n",
      "keep_dims is deprecated, use keepdims instead\n",
      "WARNING:tensorflow:From /glob/intel-python/versions/2018/intelpython3/lib/python3.6/site-packages/keras/backend/tensorflow_backend.py:2885: calling reduce_sum (from tensorflow.python.ops.math_ops) with keep_dims is deprecated and will be removed in a future version.\n",
      "Instructions for updating:\n",
      "keep_dims is deprecated, use keepdims instead\n",
      "WARNING:tensorflow:From /glob/intel-python/versions/2018/intelpython3/lib/python3.6/site-packages/keras/backend/tensorflow_backend.py:1349: calling reduce_mean (from tensorflow.python.ops.math_ops) with keep_dims is deprecated and will be removed in a future version.\n",
      "Instructions for updating:\n",
      "keep_dims is deprecated, use keepdims instead\n",
      "__________________________________________________________________________________________________\n",
      "Layer (type)                    Output Shape         Param #     Connected to                     \n",
      "==================================================================================================\n",
      "input_1 (InputLayer)            (None, 4, 4, 16)     0                                            \n",
      "__________________________________________________________________________________________________\n",
      "conv2d_8 (Conv2D)               (None, 1, 4, 128)    8320        input_1[0][0]                    \n",
      "__________________________________________________________________________________________________\n",
      "conv2d_9 (Conv2D)               (None, 4, 1, 128)    8320        input_1[0][0]                    \n",
      "__________________________________________________________________________________________________\n",
      "conv2d_10 (Conv2D)              (None, 3, 3, 128)    8320        input_1[0][0]                    \n",
      "__________________________________________________________________________________________________\n",
      "conv2d_11 (Conv2D)              (None, 2, 2, 128)    18560       input_1[0][0]                    \n",
      "__________________________________________________________________________________________________\n",
      "conv2d_12 (Conv2D)              (None, 1, 1, 128)    32896       input_1[0][0]                    \n",
      "__________________________________________________________________________________________________\n",
      "flatten_4 (Flatten)             (None, 512)          0           conv2d_8[0][0]                   \n",
      "__________________________________________________________________________________________________\n",
      "flatten_5 (Flatten)             (None, 512)          0           conv2d_9[0][0]                   \n",
      "__________________________________________________________________________________________________\n",
      "flatten_6 (Flatten)             (None, 1152)         0           conv2d_10[0][0]                  \n",
      "__________________________________________________________________________________________________\n",
      "flatten_7 (Flatten)             (None, 512)          0           conv2d_11[0][0]                  \n",
      "__________________________________________________________________________________________________\n",
      "flatten_8 (Flatten)             (None, 128)          0           conv2d_12[0][0]                  \n",
      "__________________________________________________________________________________________________\n",
      "concatenate_1 (Concatenate)     (None, 2816)         0           flatten_4[0][0]                  \n",
      "                                                                 flatten_5[0][0]                  \n",
      "                                                                 flatten_6[0][0]                  \n",
      "                                                                 flatten_7[0][0]                  \n",
      "                                                                 flatten_8[0][0]                  \n",
      "__________________________________________________________________________________________________\n",
      "activation_1 (Activation)       (None, 2816)         0           concatenate_1[0][0]              \n",
      "__________________________________________________________________________________________________\n",
      "dense_7 (Dense)                 (None, 512)          1442304     activation_1[0][0]               \n",
      "__________________________________________________________________________________________________\n",
      "batch_normalization_2 (BatchNor (None, 512)          2048        dense_7[0][0]                    \n",
      "__________________________________________________________________________________________________\n",
      "activation_2 (Activation)       (None, 512)          0           batch_normalization_2[0][0]      \n",
      "__________________________________________________________________________________________________\n",
      "dense_8 (Dense)                 (None, 128)          65664       activation_2[0][0]               \n",
      "__________________________________________________________________________________________________\n",
      "batch_normalization_3 (BatchNor (None, 128)          512         dense_8[0][0]                    \n",
      "__________________________________________________________________________________________________\n",
      "activation_3 (Activation)       (None, 128)          0           batch_normalization_3[0][0]      \n",
      "__________________________________________________________________________________________________\n",
      "dense_9 (Dense)                 (None, 4)            516         activation_3[0][0]               \n",
      "==================================================================================================\n",
      "Total params: 1,587,460\n",
      "Trainable params: 1,586,180\n",
      "Non-trainable params: 1,280\n",
      "__________________________________________________________________________________________________\n"
     ]
    }
   ],
   "source": [
    "inputs=Input((4,4,16))\n",
    "conv = inputs\n",
    "FLITERS=128\n",
    "conv41 = Conv2D(filters=FLITERS,kernel_size=(4,1),kernel_initializer= 'he_uniform')(conv)\n",
    "conv14 = Conv2D(filters=FLITERS,kernel_size=(1,4),kernel_initializer= 'he_uniform')(conv)\n",
    "conv22 = Conv2D(filters=FLITERS,kernel_size=(2,2),kernel_initializer= 'he_uniform')(conv)\n",
    "conv33 = Conv2D(filters=FLITERS,kernel_size=(3,3),kernel_initializer= 'he_uniform')(conv)\n",
    "conv44 = Conv2D(filters=FLITERS,kernel_size=(4,4),kernel_initializer= 'he_uniform')(conv)\n",
    "\n",
    "hidden=concatenate([Flatten()(conv41),Flatten()(conv14),Flatten()(conv22),Flatten()(conv33),Flatten()(conv44)])\n",
    "\n",
    "x = keras.layers.BatchNormalization()(hidden)\n",
    "x = keras.layers.Activation('relu')(hidden)\n",
    "\n",
    "for width in [512,128]:\n",
    "    \n",
    "    x= Dense(width,kernel_initializer = 'he_uniform')(x)\n",
    "    x=keras.layers.BatchNormalization()(x)\n",
    "    x =keras.layers.Activation('relu')(x)\n",
    "\n",
    "outputs = Dense(4,activation = 'softmax')(x)\n",
    "model3 = Model(inputs, outputs)\n",
    "model3.summary()\n",
    "model3.compile(optimizer='adam',loss='categorical_crossentropy', metrics=['accuracy'])\n",
    "#model3.save('learn_finally.h5')\n",
    "\n"
   ]
  }
 ],
 "metadata": {
  "kernelspec": {
   "display_name": "Python 3 (Intel, 2018)",
   "language": "python",
   "name": "c009-intel_distribution_of_python_3_2018"
  },
  "language_info": {
   "codemirror_mode": {
    "name": "ipython",
    "version": 3
   },
   "file_extension": ".py",
   "mimetype": "text/x-python",
   "name": "python",
   "nbconvert_exporter": "python",
   "pygments_lexer": "ipython3",
   "version": "3.6.2"
  }
 },
 "nbformat": 4,
 "nbformat_minor": 2
}
